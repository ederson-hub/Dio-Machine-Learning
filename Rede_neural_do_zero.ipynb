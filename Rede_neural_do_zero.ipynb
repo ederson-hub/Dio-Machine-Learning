{
  "nbformat": 4,
  "nbformat_minor": 0,
  "metadata": {
    "colab": {
      "provenance": [],
      "mount_file_id": "1ZV9haneMBMhOFqIHLJHiNfSzJxnyTdsJ",
      "authorship_tag": "ABX9TyPUBSWp0w5kMSAxfC4EVqre"
    },
    "kernelspec": {
      "name": "python3",
      "display_name": "Python 3"
    },
    "language_info": {
      "name": "python"
    }
  },
  "cells": [
    {
      "cell_type": "code",
      "execution_count": 1,
      "metadata": {
        "id": "vhmAmIzEHm-l"
      },
      "outputs": [],
      "source": [
        "import numpy as np\n",
        "import torch\n",
        "import torch.nn.functional as F\n",
        "import torchvision\n",
        "import matplotlib.pyplot as plt\n",
        "from time import time\n",
        "from torchvision import datasets, transforms\n",
        "from torch import nn, optim"
      ]
    },
    {
      "cell_type": "code",
      "source": [
        "transform = transforms.ToTensor() #definindo a conversão de imagem para tensor\n",
        "trainset = datasets.MNIST('.MNIST_data',download=True, transform=transform) # Carrega a parte de treino do dataset\n",
        "trainloader = torch.utils.data.DataLoader(trainset,batch_size=64, shuffle=True) # Cria um buffer para pegar os dados por partes\n",
        "\n",
        "valset = datasets.MNIST('.MNIST_data',download=True,train=False,transform=transform) # Carrega a parte de validação do dataset\n",
        "valloader = torch.utils.data.DataLoader(valset,batch_size=64, shuffle=True) # cria um buffer para pegar os dados por partes"
      ],
      "metadata": {
        "id": "6kXxdfoIIZXd",
        "colab": {
          "base_uri": "https://localhost:8080/"
        },
        "outputId": "bcddb805-14e5-45ea-e64b-ae74cf96cd14"
      },
      "execution_count": 2,
      "outputs": [
        {
          "output_type": "stream",
          "name": "stderr",
          "text": [
            "100%|██████████| 9.91M/9.91M [00:00<00:00, 57.5MB/s]\n",
            "100%|██████████| 28.9k/28.9k [00:00<00:00, 1.72MB/s]\n",
            "100%|██████████| 1.65M/1.65M [00:00<00:00, 12.9MB/s]\n",
            "100%|██████████| 4.54k/4.54k [00:00<00:00, 4.25MB/s]\n"
          ]
        }
      ]
    },
    {
      "cell_type": "code",
      "source": [
        "dataiter = iter(trainloader)\n",
        "imagens, etiquetas = next(dataiter)\n",
        "plt.imshow(imagens[0].numpy().squeeze(), cmap='gray_r');\n",
        "\n",
        "print(imagens[0].shape) # para verificar as dimensões do tensor de cada imagem\n",
        "print(etiquetas[0].shape) # para verificar as dimensões do tensor de cada etiqueta"
      ],
      "metadata": {
        "colab": {
          "base_uri": "https://localhost:8080/",
          "height": 465
        },
        "id": "POwbjCxiKl_b",
        "outputId": "2f6f3798-c11a-453a-873e-de6d9ace3c43"
      },
      "execution_count": null,
      "outputs": [
        {
          "output_type": "stream",
          "name": "stdout",
          "text": [
            "torch.Size([1, 28, 28])\n",
            "torch.Size([])\n"
          ]
        },
        {
          "output_type": "display_data",
          "data": {
            "text/plain": [
              "<Figure size 640x480 with 1 Axes>"
            ],
            "image/png": "[encoded data removed]"
          },
          "metadata": {}
        }
      ]
    },
    {
      "cell_type": "code",
      "source": [
        "class Modelo(nn.Module):\n",
        "    def __init__(self):\n",
        "        super(Modelo, self).__init__()\n",
        "        self.linear1 = nn.Linear(28*28, 128)  # camada de entrada, 784 neuronios que se ligam a 128\n",
        "        self.linear2 = nn.Linear(128, 64)     # camada interna 1, 128 neuronios que se ligam a 64\n",
        "        self.linear3 = nn.Linear(64, 10)      # camada interna 2, 64 neuronios que se ligam a 10\n",
        "        self.relu = nn.ReLU()\n",
        "        self.softmax = nn.Softmax(dim=1)\n",
        "\n",
        "    def forward(self,X):\n",
        "        X = X.view(-1,28*28)\n",
        "        X = self.relu(self.linear1(X))        # função de ativação da camada de entrada para camada interna 1\n",
        "        X = self.relu(self.linear2(X))        # função de ativação da camada interna 1 para camada interna 2\n",
        "        X = self.softmax(self.linear3(X))\n",
        "        return X                              # dados utilizados para calcular a perda\n"
      ],
      "metadata": {
        "id": "eeDTP6SlODEi"
      },
      "execution_count": 3,
      "outputs": []
    },
    {
      "cell_type": "code",
      "source": [
        "def treino(model, trainloader, criterion, optimizer, epochs=10):\n",
        "    inicio = time()\n",
        "    steps = 0\n",
        "    criterio = nn.NLLLoss()\n",
        "    for e in range(epochs):\n",
        "        running_loss = 0\n",
        "        for imagens, etiquetas in trainloader:\n",
        "            steps += 1\n",
        "            optimizer.zero_grad()\n",
        "            output = model.forward(imagens)\n",
        "            loss = criterio(output, etiquetas)\n",
        "            loss.backward()\n",
        "            optimizer.step()\n",
        "            running_loss += loss.item()\n"
      ],
      "metadata": {
        "id": "81MDpJ_VP2FF"
      },
      "execution_count": 4,
      "outputs": []
    },
    {
      "cell_type": "code",
      "source": [
        "def validacao(model, valloader, criterion):\n",
        "    val_loss = 0\n",
        "    accuracy = 0\n",
        "    for images, labels in valloader:\n",
        "        output = model(images)\n",
        "        val_loss += criterion(output, labels)\n",
        "        ps = torch.exp(output)\n",
        "        equality = (labels.data == ps.max(1)[1])\n",
        "        accuracy += equality.type(torch.FloatTensor).mean()\n",
        "    return val_loss, accuracy\n",
        "\n",
        "    print(\"Device: \", device)\n",
        "\n",
        "\n"
      ],
      "metadata": {
        "id": "IYsRo9VbRPYX"
      },
      "execution_count": 5,
      "outputs": []
    },
    {
      "cell_type": "code",
      "source": [
        "modelo = Modelo()\n",
        "device = torch.device(\"cuda\" if torch.cuda.is_available() else \"cpu\")\n",
        "modelo.to(device)"
      ],
      "metadata": {
        "colab": {
          "base_uri": "https://localhost:8080/"
        },
        "id": "tycwyyEASSn0",
        "outputId": "a460cc30-d588-4967-ba7e-e47a45a73b21"
      },
      "execution_count": 6,
      "outputs": [
        {
          "output_type": "execute_result",
          "data": {
            "text/plain": [
              "Modelo(\n",
              "  (linear1): Linear(in_features=784, out_features=128, bias=True)\n",
              "  (linear2): Linear(in_features=128, out_features=64, bias=True)\n",
              "  (linear3): Linear(in_features=64, out_features=10, bias=True)\n",
              "  (relu): ReLU()\n",
              "  (softmax): Softmax(dim=1)\n",
              ")"
            ]
          },
          "metadata": {},
          "execution_count": 6
        }
      ]
    }
  ]
}