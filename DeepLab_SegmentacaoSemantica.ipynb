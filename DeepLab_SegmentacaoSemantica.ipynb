{
  "nbformat": 4,
  "nbformat_minor": 0,
  "metadata": {
    "colab": {
      "provenance": [],
      "authorship_tag": "ABX9TyNyDYfUpSfTFqo86PC4wfcb"
    },
    "kernelspec": {
      "name": "python3",
      "display_name": "Python 3"
    },
    "language_info": {
      "name": "python"
    }
  },
  "cells": [
    {
      "cell_type": "code",
      "execution_count": 27,
      "metadata": {
        "id": "kRrSdfdLOGKM"
      },
      "outputs": [],
      "source": [
        "import os\n",
        "import io\n",
        "from io import BytesIO\n",
        "import tarfile\n",
        "import tempfile\n",
        "from six.moves import urllib\n",
        "\n",
        "from matplotlib import gridspec\n",
        "from matplotlib import pyplot as plt\n",
        "import numpy as np\n",
        "from PIL import Image\n",
        "\n",
        "import tensorflow as tf"
      ]
    },
    {
      "cell_type": "code",
      "source": [
        "class DeepLabModel(object):\n",
        "  \"\"\"Class to load deeplab model and run inference.\"\"\"\n",
        "\n",
        "  INPUT_TENSOR_NAME = 'ImageTensor:0'\n",
        "  OUTPUT_TENSOR_NAME = 'SemanticPredictions:0'\n",
        "  INPUT_SIZE = 513\n",
        "  FROZEN_GRAPH_NAME = 'frozen_inference_graph'\n",
        "\n",
        "  def __init__(self, tarball_path):\n",
        "    \"\"\"Creates and loads pretrained deeplab model.\"\"\"\n",
        "    self.graph = tf.Graph()\n",
        "\n",
        "    graph_def = None\n",
        "    tar_file = tarfile.open(tarball_path)\n",
        "    for tar_info in tar_file.getmembers():\n",
        "      if self.FROZEN_GRAPH_NAME in os.path.basename(tar_info.name):\n",
        "        file_handle = tar_file.extractfile(tar_info)\n",
        "        graph_def = tf.compat.v1.GraphDef.FromString(file_handle.read())\n",
        "        break\n",
        "\n",
        "    tar_file.close()\n",
        "\n",
        "    if graph_def is None:\n",
        "       raise RuntimeError('Cannot find inference graph in tar archive.')\n",
        "\n",
        "    with self.graph.as_default():\n",
        "      tf.import_graph_def(graph_def, name='')\n",
        "\n",
        "    self.sess = tf.compat.v1.Session(graph=self.graph)\n",
        "\n",
        "  def run(self, image):\n",
        "    \"\"\"Runs inference on a single image.\n",
        "\n",
        "    Args:\n",
        "      image: A PIL.Image object, raw input image.\n",
        "    Returns:\n",
        "      resized_image: RGB image resized from original input image.\n",
        "      seg_map: Segmentation map of `resized_image`.\n",
        "    \"\"\"\n",
        "    width, height = image.size\n",
        "    resize_ratio = 1.0 * self.INPUT_SIZE / max(width, height)\n",
        "    target_size = (int(resize_ratio * width), int(resize_ratio * height))\n",
        "    resized_image = image.convert('RGB').resize(target_size, Image.Resampling.LANCZOS)\n",
        "    batch_seg_map = self.sess.run(\n",
        "        self.OUTPUT_TENSOR_NAME,\n",
        "        feed_dict={self.INPUT_TENSOR_NAME: [np.asarray(resized_image)]})\n",
        "    seg_map = batch_seg_map[0]\n",
        "    return resized_image, seg_map\n",
        "\n",
        "  def create_pascal_label_colormap():\n",
        "    \"\"\"Creates a label colormap used in PASCAL VOC segmentation benchmark.\n",
        "\n",
        "    Returns:\n",
        "      A Colormap for visualizing segmentation results.\n",
        "    \"\"\"\n",
        "    colormap = np.zeros((256, 3), dtype=int)\n",
        "    ind = np.arange(256, dtype=int)\n",
        "\n",
        "    for shift in reversed(range(8)):\n",
        "      for channel in range(3):\n",
        "        colormap[:, channel] |= ((ind >> channel) & 1) << shift\n",
        "      ind >>= 3\n",
        "\n",
        "    return colormap\n",
        "\n",
        "  def label_to_color_image(label):\n",
        "    \"\"\"Adds color defined by the dataset colormap to the label.\n",
        "    Args:\n",
        "      label: A 2D array with integer type, storing the segmentation label.\n",
        "    Returns:\n",
        "      result: A 2D array with floating type. The element of the array\n",
        "        is the color indexed by the corresponding element in the input label\n",
        "        to the PASCAL color map.\n",
        "\n",
        "    Raises:\n",
        "      ValueError: If label is not of rank 2 or its value is larger than color\n",
        "        map maximum entry.\n",
        "    \"\"\"\n",
        "    if label.ndim != 2:\n",
        "      raise ValueError('Expect 2-D input label')\n",
        "\n",
        "    colormap = DeepLabModel.create_pascal_label_colormap()\n",
        "\n",
        "    if np.max(label) >= len(colormap):\n",
        "      raise ValueError('label value too large.')\n",
        "\n",
        "    return colormap[label]\n",
        "\n",
        "  def vis_segmentation(image, seg_map):\n",
        "    \"\"\"Visualizes input image, segmentation map and overlay view.\"\"\"\n",
        "    plt.figure(figsize=(15, 5))\n",
        "    grid_spec = gridspec.GridSpec(1, 4, width_ratios=[6, 6, 1])\n",
        "    plt.subplot(grid_spec[0])\n",
        "    plt.imshow(image)\n",
        "    plt.axis('off')\n",
        "    plt.title('input image')\n",
        "    plt.subplot(grid_spec[1])\n",
        "    seg_image = DeepLabModel.label_to_color_image(seg_map).astype(np.uint8)\n",
        "    plt.imshow(seg_image)\n",
        "    plt.axis('off')\n",
        "    plt.title('segmentation map')\n",
        "    plt.subplot(grid_spec[2])\n",
        "    plt.imshow(image)\n",
        "    plt.imshow(seg_image, alpha=0.7)\n",
        "    plt.axis('off')\n",
        "    plt.title('segmentation overlay')\n",
        "    unique_labels = np.unique(seg_map)\n",
        "    ax = plt.subplot(grid_spec[3])\n",
        "    plt.imshow(\n",
        "        FULL_COLOR_MAP[unique_labels].astype(np.uint8), interpolation='nearest')\n",
        "    ax.yaxis.tick_right()\n",
        "    plt.yticks(range(len(unique_labels)), LABEL_NAMES[unique_labels])\n",
        "    plt.xticks([], [])\n",
        "    ax.tick_params(width=0.0)\n",
        "    plt.grid('off')\n",
        "    plt.show()"
      ],
      "metadata": {
        "id": "T3AQk5hAOplv"
      },
      "execution_count": 17,
      "outputs": []
    },
    {
      "cell_type": "code",
      "source": [
        "LABEL_NAMES = np.asarray([\n",
        "    'background', 'aeroplane', 'bicycle', 'bird', 'boat', 'bottle', 'bus',\n",
        "    'car', 'cat', 'chair', 'cow', 'diningtable', 'dog', 'horse', 'motorbike',\n",
        "    'person', 'pottedplant', 'sheep', 'sofa', 'train', 'tv'\n",
        "\n",
        "])\n",
        "\n",
        "FULL_COLOR_MAP = np.arange(len(LABEL_NAMES)).reshape(len(LABEL_NAMES), 1)\n",
        "FULL_COLOR_MAP = DeepLabModel.label_to_color_image(FULL_COLOR_MAP)"
      ],
      "metadata": {
        "id": "iJXVZIpHR0bg"
      },
      "execution_count": 9,
      "outputs": []
    },
    {
      "cell_type": "code",
      "source": [
        "MODEL_NAME = 'mobilenetv2_coco_voctrainaug'\n",
        "\n",
        "_DOWLOAD_URL_PREFIX = 'http://download.tensorflow.org/models/'\n",
        "_MODEL_URLS = {\n",
        "    'mobilenetv2_coco_voctrainaug':\n",
        "        'deeplabv3_mnv2_pascal_train_aug_2018_01_29.tar.gz',\n",
        "    'mobilenetv2_coco_voctrainval':\n",
        "        'deeplabv3_mnv2_pascal_trainval_2018_01_29.tar.gz',\n",
        "    'xception_coco_voctrainaug':\n",
        "        'deeplabv3_pascal_train_aug_2018_01_04.tar.gz',\n",
        "    'xception_coco_voctrainval':\n",
        "        'deeplabv3_pascal_trainval_2018_01_04.tar.gz',\n",
        "}\n",
        "\n",
        "_TARBALL_NAME = 'deeplab_model.tar.gz'\n",
        "download_path = tempfile.mkdtemp()\n",
        "tarball_path = os.path.join(download_path, _TARBALL_NAME)\n",
        "urllib.request.urlretrieve(_DOWLOAD_URL_PREFIX + _MODEL_URLS[MODEL_NAME],\n",
        "                   tarball_path)\n",
        "MODEL = DeepLabModel(tarball_path)\n",
        "print('model loaded successfully!')"
      ],
      "metadata": {
        "colab": {
          "base_uri": "https://localhost:8080/"
        },
        "id": "gpH0IUv4Surb",
        "outputId": "3d84fd2f-17b8-40d2-afde-d91f7f5489b3"
      },
      "execution_count": 13,
      "outputs": [
        {
          "output_type": "stream",
          "name": "stdout",
          "text": [
            "model loaded successfully!\n"
          ]
        }
      ]
    },
    {
      "cell_type": "code",
      "source": [
        "# Download the example image\n",
        "IMAGE_URL = 'https://github.com/tensorflow/models/blob/master/research/deeplab/g3doc/img/image1.jpg?raw=true'\n",
        "_DOWNLOAD_URL_PREFIX = 'https://github.com/tensorflow/models/raw/master/research/deeplab/g3doc/'\n",
        "_IMAGE_URLS = {\n",
        "    'image1': 'img/image1.jpg',\n",
        "    'image2': 'img/image2.jpg',\n",
        "    'image3': 'img/image3.jpg',\n",
        "}\n",
        "\n",
        "_TARBALL_NAME = 'deeplab_model.tar.gz'\n",
        "\n",
        "image_url = _DOWNLOAD_URL_PREFIX + _IMAGE_URLS['image1']\n",
        "image_path = os.path.join(tempfile.mkdtemp(), 'image1.jpg')\n",
        "urllib.request.urlretrieve(image_url, image_path)\n",
        "\n",
        "# Load the image\n",
        "original_image = Image.open(image_path)\n"
      ],
      "metadata": {
        "id": "QZ8AYqD_Ux8z"
      },
      "execution_count": 29,
      "outputs": []
    },
    {
      "cell_type": "code",
      "source": [
        "# Run the model\n",
        "residezed_image = MODEL.run(original_image)\n",
        "\n",
        "# Visualize the results\n",
        "DeepLabModel.vis_segmentation(resized_image, seg_map)\n"
      ],
      "metadata": {
        "id": "13CviY48astP"
      },
      "execution_count": null,
      "outputs": []
    }
  ]
}