{
  "nbformat": 4,
  "nbformat_minor": 0,
  "metadata": {
    "colab": {
      "provenance": [],
      "authorship_tag": "ABX9TyOz+nyG41UwKbcJSO4kmWvi"
    },
    "kernelspec": {
      "name": "python3",
      "display_name": "Python 3"
    },
    "language_info": {
      "name": "python"
    }
  },
  "cells": [
    {
      "cell_type": "code",
      "metadata": {
        "id": "22e4e3b6"
      },
      "source": [
        "# Create call calcultor for TDD\n",
        "class Calculator:\n",
        "    \"\"\"A simple calculator class with basic arithmetic operations.\"\"\"\n",
        "\n",
        "    def __init__(self, num1, num2):\n",
        "        \"\"\"Initializes the Calculator with two numbers.\"\"\"\n",
        "        self.num1 = num1\n",
        "        self.num2 = num2\n",
        "\n",
        "    def add(self):\n",
        "        \"\"\"Method for addition (to be implemented).\"\"\"\n",
        "        pass\n",
        "\n",
        "    def subtract(self):\n",
        "        \"\"\"Method for subtraction (to be implemented).\"\"\"\n",
        "        pass\n",
        "\n",
        "    def multiply(self):\n",
        "        \"\"\"Method for multiplication (to be implemented).\"\"\"\n",
        "        pass\n",
        "\n",
        "    def divide(self):\n",
        "        \"\"\"Method for division (to be implemented).\"\"\"\n",
        "        pass\n"
      ],
      "execution_count": 2,
      "outputs": []
    },
    {
      "cell_type": "code",
      "metadata": {
        "colab": {
          "base_uri": "https://localhost:8080/"
        },
        "id": "137b788d",
        "outputId": "68fc3ce6-2432-480b-8106-fdc7df15e70d"
      },
      "source": [
        "# Write initial unit tests using TDD\n",
        "import unittest\n",
        "\n",
        "class TestCalculator(unittest.TestCase):\n",
        "    \"\"\"Unit tests for the Calculator class.\"\"\"\n",
        "\n",
        "    def test_add(self):\n",
        "        \"\"\"Test case for the add operation.\"\"\"\n",
        "        calc = Calculator(10, 5)\n",
        "        self.assertEqual(calc.add(), 15)\n",
        "\n",
        "    def test_subtract(self):\n",
        "        \"\"\"Test case for the subtract operation.\"\"\"\n",
        "        calc = Calculator(10, 5)\n",
        "        self.assertEqual(calc.subtract(), 5)\n",
        "\n",
        "    def test_multiply(self):\n",
        "        \"\"\"Test case for the multiply operation.\"\"\"\n",
        "        calc = Calculator(10, 5)\n",
        "        self.assertEqual(calc.multiply(), 50)\n",
        "\n",
        "    def test_divide(self):\n",
        "        \"\"\"Test case for the divide operation.\"\"\"\n",
        "        calc = Calculator(10, 5)\n",
        "        self.assertEqual(calc.divide(), 2)\n",
        "\n",
        "    def test_divide_by_zero(self):\n",
        "        \"\"\"Test case for division by zero.\"\"\"\n",
        "        calc = Calculator(10, 0)\n",
        "        with self.assertRaises(ValueError):\n",
        "            calc.divide()\n",
        "\n",
        "if __name__ == '__main__':\n",
        "    unittest.main(argv=['first-arg-is-ignored'], exit=False)"
      ],
      "execution_count": 3,
      "outputs": [
        {
          "output_type": "stream",
          "name": "stderr",
          "text": [
            "FFFFF\n",
            "======================================================================\n",
            "FAIL: test_add (__main__.TestCalculator.test_add)\n",
            "Test case for the add operation.\n",
            "----------------------------------------------------------------------\n",
            "Traceback (most recent call last):\n",
            "  File \"/tmp/ipython-input-2233155704.py\", line 9, in test_add\n",
            "    self.assertEqual(calc.add(), 15)\n",
            "AssertionError: None != 15\n",
            "\n",
            "======================================================================\n",
            "FAIL: test_divide (__main__.TestCalculator.test_divide)\n",
            "Test case for the divide operation.\n",
            "----------------------------------------------------------------------\n",
            "Traceback (most recent call last):\n",
            "  File \"/tmp/ipython-input-2233155704.py\", line 24, in test_divide\n",
            "    self.assertEqual(calc.divide(), 2)\n",
            "AssertionError: None != 2\n",
            "\n",
            "======================================================================\n",
            "FAIL: test_divide_by_zero (__main__.TestCalculator.test_divide_by_zero)\n",
            "Test case for division by zero.\n",
            "----------------------------------------------------------------------\n",
            "Traceback (most recent call last):\n",
            "  File \"/tmp/ipython-input-2233155704.py\", line 29, in test_divide_by_zero\n",
            "    with self.assertRaises(ValueError):\n",
            "         ^^^^^^^^^^^^^^^^^^^^^^^^^^^^^\n",
            "AssertionError: ValueError not raised\n",
            "\n",
            "======================================================================\n",
            "FAIL: test_multiply (__main__.TestCalculator.test_multiply)\n",
            "Test case for the multiply operation.\n",
            "----------------------------------------------------------------------\n",
            "Traceback (most recent call last):\n",
            "  File \"/tmp/ipython-input-2233155704.py\", line 19, in test_multiply\n",
            "    self.assertEqual(calc.multiply(), 50)\n",
            "AssertionError: None != 50\n",
            "\n",
            "======================================================================\n",
            "FAIL: test_subtract (__main__.TestCalculator.test_subtract)\n",
            "Test case for the subtract operation.\n",
            "----------------------------------------------------------------------\n",
            "Traceback (most recent call last):\n",
            "  File \"/tmp/ipython-input-2233155704.py\", line 14, in test_subtract\n",
            "    self.assertEqual(calc.subtract(), 5)\n",
            "AssertionError: None != 5\n",
            "\n",
            "----------------------------------------------------------------------\n",
            "Ran 5 tests in 0.007s\n",
            "\n",
            "FAILED (failures=5)\n"
          ]
        }
      ]
    },
    {
      "cell_type": "code",
      "metadata": {
        "id": "79da5e38"
      },
      "source": [
        "# Implement calculator methods\n",
        "class Calculator:\n",
        "    \"\"\"A simple calculator class with basic arithmetic operations.\"\"\"\n",
        "\n",
        "    def __init__(self, num1, num2):\n",
        "        \"\"\"Initializes the Calculator with two numbers.\"\"\"\n",
        "        self.num1 = num1\n",
        "        self.num2 = num2\n",
        "\n",
        "    def add(self):\n",
        "        \"\"\"Method for addition.\"\"\"\n",
        "        return self.num1 + self.num2\n",
        "\n",
        "    def subtract(self):\n",
        "        \"\"\"Method for subtraction.\"\"\"\n",
        "        return self.num1 - self.num2\n",
        "\n",
        "    def multiply(self):\n",
        "        \"\"\"Method for multiplication.\"\"\"\n",
        "        return self.num1 * self.num2\n",
        "\n",
        "    def divide(self):\n",
        "        \"\"\"Method for division.\"\"\"\n",
        "        if self.num2 == 0:\n",
        "            raise ValueError(\"Division by zero is not allowed\")\n",
        "        return self.num1 / self.num2\n"
      ],
      "execution_count": 4,
      "outputs": []
    },
    {
      "cell_type": "code",
      "metadata": {
        "id": "EmenXpVPiHZN"
      },
      "source": [
        "#  Langchain for test generation\n",
        "from langchain_core.prompts import ChatPromptTemplate\n",
        "\n",
        "system_message = (\"system\", \"You are a helpful AI assistant that generates unit tests for Python code.\")\n",
        "user_message = (\"user\", \"\"\"Generate additional unit tests for the following Python Calculator class and its existing unit tests.\n",
        "\n",
        "Calculator Class:\n",
        "```python\n",
        "class Calculator:\n",
        "    \"\"\"A simple calculator class with basic arithmetic operations.\"\"\"\n",
        "\n",
        "    def __init__(self, num1, num2):\n",
        "        \"\"\"Initializes the Calculator with two numbers.\"\"\"\n",
        "        self.num1 = num1\n",
        "        self.num2 = num2\n",
        "\n",
        "    def add(self):\n",
        "        \"\"\"Method for addition.\"\"\"\n",
        "        return self.num1 + self.num2\n",
        "\n",
        "    def subtract(self):\n",
        "        \"\"\"Method for subtraction.\"\"\"\n",
        "        return self.num1 - self.num2\n",
        "\n",
        "    def multiply(self):\n",
        "        \"\"\"Method for multiplication.\"\"\"\n",
        "        return self.num1 * self.num2\n",
        "\n",
        "    def divide(self):\n",
        "        \"\"\"Method for division.\"\"\"\n",
        "        if self.num2 == 0:\n",
        "            raise ValueError(\"Division by zero is not allowed\")\n",
        "        return self.num1 / self.num2\n",
        "```\n",
        "\n",
        "Existing Unit Tests:\n",
        "```python\n",
        "import unittest\n",
        "\n",
        "class TestCalculator(unittest.TestCase):\n",
        "    \"\"\"Unit tests for the Calculator class.\"\"\"\n",
        "\n",
        "    def test_add(self):\n",
        "        \"\"\"Test case for the add operation.\"\"\"\n",
        "        calc = Calculator(10, 5)\n",
        "        self.assertEqual(calc.add(), 15)\n",
        "\n",
        "    def test_subtract(self):\n",
        "        \"\"\"Test case for the subtract operation.\"\"\"\n",
        "        calc = Calculator(10, 5)\n",
        "        self.assertEqual(calc.subtract(), 5)\n",
        "\n",
        "    def test_multiply(self):\n",
        "        \"\"\"Test case for the multiply operation.\"\"\"\n",
        "        calc = Calculator(10, 5)\n",
        "        self.assertEqual(calc.multiply(), 50)\n",
        "\n",
        "    def test_divide(self):\n",
        "        \"\"\"Test case for the divide operation.\"\"\"\n",
        "        calc = Calculator(10, 5)\n",
        "        self.assertEqual(calc.divide(), 2)\n",
        "\n",
        "    def test_divide_by_zero(self):\n",
        "        \"\"\"Test case for division by zero.\"\"\"\n",
        "        calc = Calculator(10, 0)\n",
        "        with self.assertRaises(ValueError):\n",
        "            calc.divide()\n",
        "\n",
        "if __name__ == '__main__':\n",
        "    unittest.main(argv=['first-arg-is-ignored'], exit=False)\n",
        "```\n",
        "\n",
        "Generate new unit tests for the `TestCalculator` class. Include test cases that cover different scenarios, such as:\n",
        "- Negative numbers\n",
        "- Floating-point numbers\n",
        "- Large numbers\n",
        "- Edge cases beyond division by zero (if applicable, e.g., operations with zero).\n",
        "- Ensure the tests follow the structure of the existing tests and use the `unittest` framework.\n",
        "- Provide only the Python code for the new test methods within the `TestCalculator` class. Do not include the `import unittest` or the `if __name__ == '__main__':` block.\n",
        "\"\"\")\n",
        "\n",
        "prompt = ChatPromptTemplate.from_messages([system_message, user_message])\n",
        "\n",
        "print(\"Prompt template created successfully.\")"
      ],
      "execution_count": null,
      "outputs": []
    },
    {
      "cell_type": "code",
      "metadata": {
        "colab": {
          "base_uri": "https://localhost:8080/"
        },
        "id": "vykn8Rokip8B",
        "outputId": "4c785312-5ce3-44e3-cac0-8afc5099d6b9"
      },
      "source": [
        "%pip install -qU langchain-openai"
      ],
      "execution_count": 19,
      "outputs": [
        {
          "output_type": "stream",
          "name": "stdout",
          "text": [
            "\u001b[?25l   \u001b[90m━━━━━━━━━━━━━━━━━━━━━━━━━━━━━━━━━━━━━━━━\u001b[0m \u001b[32m0.0/74.5 kB\u001b[0m \u001b[31m?\u001b[0m eta \u001b[36m-:--:--\u001b[0m\r\u001b[2K   \u001b[90m━━━━━━━━━━━━━━━━━━━━━━━━━━━━━━━━━━━━━━━━\u001b[0m \u001b[32m74.5/74.5 kB\u001b[0m \u001b[31m2.0 MB/s\u001b[0m eta \u001b[36m0:00:00\u001b[0m\n",
            "\u001b[?25h"
          ]
        }
      ]
    },
    {
      "cell_type": "code",
      "metadata": {
        "colab": {
          "base_uri": "https://localhost:8080/"
        },
        "id": "a1c48df2",
        "outputId": "9245203e-8c72-4ce7-ef0d-8427cc08a08b"
      },
      "source": [
        "from langchain_openai import AzureChatOpenAI\n",
        "import os\n",
        "\n",
        "os.environ[\"AZURE_OPENAI_ENDPOINT\"] = \"YOUR_AZURE_ENDPOINT\"\n",
        "os.environ[\"AZURE_OPENAI_API_KEY\"] = \"YOUR_API_KEY\"\n",
        "os.environ[\"AZURE_OPENAI_API_VERSION\"] = \"YOUR_API_VERSION\" # e.g., \"2023-05-15\"\n",
        "os.environ[\"AZURE_OPENAI_CHAT_DEPLOYMENT_NAME\"] = \"YOUR_DEPLOYMENT_NAME\" # e.g., \"gpt-4\" or \"gpt-35-turbo\"\n",
        "\n",
        "\n",
        "llm = AzureChatOpenAI(\n",
        "    azure_endpoint=os.environ[\"AZURE_OPENAI_ENDPOINT\"],\n",
        "    api_key=os.environ[\"AZURE_OPENAI_API_KEY\"],\n",
        "    api_version=os.environ[\"AZURE_OPENAI_API_VERSION\"],\n",
        "    azure_deployment=os.environ[\"AZURE_OPENAI_CHAT_DEPLOYMENT_NAME\"]\n",
        ")\n",
        "\n",
        "print(\"AzureChatOpenAI model instantiated successfully.\")"
      ],
      "execution_count": 20,
      "outputs": [
        {
          "output_type": "stream",
          "name": "stdout",
          "text": [
            "AzureChatOpenAI model instantiated successfully.\n"
          ]
        }
      ]
    },
    {
      "cell_type": "code",
      "metadata": {
        "colab": {
          "base_uri": "https://localhost:8080/"
        },
        "id": "b83563f4",
        "outputId": "09793cb8-0c07-4ba4-e3cd-2722ae45d926"
      },
      "source": [
        "# Run tests\n",
        "import unittest\n",
        "\n",
        "class Calculator:\n",
        "    \"\"\"A simple calculator class with basic arithmetic operations.\"\"\"\n",
        "\n",
        "    def __init__(self, num1, num2):\n",
        "        \"\"\"Initializes the Calculator with two numbers.\"\"\"\n",
        "        self.num1 = num1\n",
        "        self.num2 = num2\n",
        "\n",
        "    def add(self):\n",
        "        \"\"\"Method for addition.\"\"\"\n",
        "        return self.num1 + self.num2\n",
        "\n",
        "    def subtract(self):\n",
        "        \"\"\"Method for subtraction.\"\"\"\n",
        "        return self.num1 - self.num2\n",
        "\n",
        "    def multiply(self):\n",
        "        \"\"\"Method for multiplication.\"\"\"\n",
        "        return self.num1 * self.num2\n",
        "\n",
        "    def divide(self):\n",
        "        \"\"\"Method for division.\"\"\"\n",
        "        if self.num2 == 0:\n",
        "            raise ValueError(\"Division by zero is not allowed\")\n",
        "        return self.num1 / self.num2\n",
        "\n",
        "class TestCalculator(unittest.TestCase):\n",
        "    \"\"\"Unit tests for the Calculator class.\"\"\"\n",
        "\n",
        "    def test_add(self):\n",
        "        \"\"\"Test case for the add operation.\"\"\"\n",
        "        calc = Calculator(10, 5)\n",
        "        self.assertEqual(calc.add(), 15)\n",
        "\n",
        "    def test_subtract(self):\n",
        "        \"\"\"Test case for the subtract operation.\"\"\"\n",
        "        calc = Calculator(10, 5)\n",
        "        self.assertEqual(calc.subtract(), 5)\n",
        "\n",
        "    def test_multiply(self):\n",
        "        \"\"\"Test case for the multiply operation.\"\"\"\n",
        "        calc = Calculator(10, 5)\n",
        "        self.assertEqual(calc.multiply(), 50)\n",
        "\n",
        "    def test_divide(self):\n",
        "        \"\"\"Test case for the divide operation.\"\"\"\n",
        "        calc = Calculator(10, 5)\n",
        "        self.assertEqual(calc.divide(), 2)\n",
        "\n",
        "    def test_divide_by_zero(self):\n",
        "        \"\"\"Test case for division by zero.\"\"\"\n",
        "        calc = Calculator(10, 0)\n",
        "        with self.assertRaises(ValueError):\n",
        "            calc.divide()\n",
        "\n",
        "# Run the tests\n",
        "unittest.main(argv=['first-arg-is-ignored'], exit=False)"
      ],
      "execution_count": 21,
      "outputs": [
        {
          "output_type": "stream",
          "name": "stderr",
          "text": [
            ".....\n",
            "----------------------------------------------------------------------\n",
            "Ran 5 tests in 0.004s\n",
            "\n",
            "OK\n"
          ]
        },
        {
          "output_type": "execute_result",
          "data": {
            "text/plain": [
              "<unittest.main.TestProgram at 0x7c1f113b2d50>"
            ]
          },
          "metadata": {},
          "execution_count": 21
        }
      ]
    }
  ]
}