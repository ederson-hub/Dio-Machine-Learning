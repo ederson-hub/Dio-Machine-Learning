{
  "nbformat": 4,
  "nbformat_minor": 0,
  "metadata": {
    "colab": {
      "provenance": [],
      "authorship_tag": "ABX9TyOd0CSC3U3SumIXSJlAJgBf"
    },
    "kernelspec": {
      "name": "python3",
      "display_name": "Python 3"
    },
    "language_info": {
      "name": "python"
    }
  },
  "cells": [
    {
      "cell_type": "code",
      "source": [
        "!pip install SpeechRecognition"
      ],
      "metadata": {
        "collapsed": true,
        "id": "6WkM_6cX5Nzq"
      },
      "execution_count": null,
      "outputs": []
    },
    {
      "cell_type": "code",
      "source": [
        "!pip install gTTS"
      ],
      "metadata": {
        "collapsed": true,
        "id": "4RpAAk1I5yTR"
      },
      "execution_count": null,
      "outputs": []
    },
    {
      "cell_type": "code",
      "metadata": {
        "collapsed": true,
        "id": "62b469e6"
      },
      "source": [
        "!pip install playsound"
      ],
      "execution_count": null,
      "outputs": []
    },
    {
      "cell_type": "code",
      "source": [
        "!pip install wikipedia"
      ],
      "metadata": {
        "collapsed": true,
        "id": "mwGGKsAr6cCW"
      },
      "execution_count": null,
      "outputs": []
    },
    {
      "cell_type": "code",
      "metadata": {
        "collapsed": true,
        "id": "e6feaebf"
      },
      "source": [
        "!pip install PyAudio"
      ],
      "execution_count": null,
      "outputs": []
    },
    {
      "cell_type": "code",
      "execution_count": 16,
      "metadata": {
        "id": "YYQAGoX94U7R"
      },
      "outputs": [],
      "source": [
        "import speech_recognition as sr\n",
        "from gtts import gTTS\n",
        "import os\n",
        "import datetime\n",
        "import playsound\n",
        "import pyjokes\n",
        "import wikipedia\n",
        "import webbrowser"
      ]
    },
    {
      "cell_type": "code",
      "source": [
        "# Get mic audio\n",
        "def get_audio():\n",
        "    r = sr.Recognizer()\n",
        "    with sr.Microphone() as source:\n",
        "        r.pause_threshold = 1\n",
        "        r.adjust_for_ambient_noise(source, duration=1)\n",
        "        audio = r.listen(source)\n",
        "        said = \"\"\n",
        "        try:\n",
        "            said = r.recognize_google(audio)\n",
        "            print(said)\n",
        "        except sr.UnknownValueError:\n",
        "            print(\"Didn't catch that\")\n",
        "\n",
        "# Speak converted audio to text\n",
        "def speak(text):\n",
        "    tts = gTTS(text=text, lang='en')\n",
        "    filename = \"voice.mp3\"\n",
        "    tts.save(filename)\n",
        "    playsound.playsound(filename)\n",
        "    os.remove(filename)\n"
      ],
      "metadata": {
        "id": "UNj8AC_96nXz"
      },
      "execution_count": 17,
      "outputs": []
    },
    {
      "cell_type": "code",
      "source": [
        "\n",
        "# Let try it\n",
        "# Text = get_audio()\n",
        "# Speak (text)\n",
        "\n",
        "while True:\n",
        "  print(\"I am listening...\")\n",
        "  text = get_audio().lower()\n",
        "  if 'youtube' in text:\n",
        "    speak(\"Opening Youtube\")\n",
        "    webbrowser.open('https://www.youtube.com')\n",
        "  elif 'search' in text:\n",
        "    speak(\"Searching Wikipedia...\")\n",
        "    text = text.replace(\"wikipedia\", \"\")\n",
        "    results = wikipedia.summary(text, sentences=3)\n",
        "    speak(\"According to Wikipedia\")\n",
        "    print(results)\n",
        "    speak(results)\n",
        "  elif 'joke' in text:\n",
        "    speak(pyjokes.get_joke())\n",
        "  elif 'time' in text:\n",
        "    strTime = datetime.datetime.now().strftime(\"%H:%M:%S\")\n",
        "    speak(f\"The time is {strTime}\")\n",
        "  elif 'open google' in text:\n",
        "    speak(\"Opening Google\")\n",
        "    webbrowser.open('https://www.google.com')\n",
        "  elif 'exit' in text:\n",
        "    speak(\"Exiting\")\n",
        "    break\n"
      ],
      "metadata": {
        "id": "M7AmXF5v-MfK"
      },
      "execution_count": null,
      "outputs": []
    }
  ]
}